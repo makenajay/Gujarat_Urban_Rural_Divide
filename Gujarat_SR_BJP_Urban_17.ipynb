{
 "cells": [
  {
   "cell_type": "code",
   "execution_count": 1,
   "id": "848bb3f5",
   "metadata": {},
   "outputs": [],
   "source": [
    "import numpy as np\n",
    "import pandas as pd\n",
    "import matplotlib.pyplot as plt\n",
    "import math\n",
    "import statistics"
   ]
  },
  {
   "cell_type": "code",
   "execution_count": 2,
   "id": "91f68ee0",
   "metadata": {},
   "outputs": [
    {
     "name": "stdout",
     "output_type": "stream",
     "text": [
      "(182,)\n",
      "<class 'numpy.ndarray'>\n",
      "(182, 1) (182,)\n"
     ]
    }
   ],
   "source": [
    "# Creat DataFrame\n",
    "guj_BJP_urban_SR = pd.read_csv (r\"D:\\Dropbox\\TASK FORCE\\Data Analysis Lok Sabha & Vidhan Sabha\\GUJARAT ELECTIONS\\BJP_StrikeRate_Urban_2017.csv\")\n",
    "guj_SR = guj_BJP_urban_SR\n",
    "guj_SR = guj_SR[guj_SR.URBAN >= 0]\n",
    "guj_SR = guj_SR[guj_SR.URBAN <= 100]\n",
    "guj_SR['URBAN'] = (guj_SR['URBAN'] / 100).round(2)\n",
    "guj_SR = guj_SR.reset_index()\n",
    "guj_SR = guj_SR[[\"BJP_URBAN_SR\", \"URBAN\"]]\n",
    "# Create X from the \"URBAN\" values of dataframe guj_SR\n",
    "X_train = guj_SR[\"URBAN\"].values\n",
    "# Create y from the \"BJP_URBAN_SR\" values of dataframe guj_SR\n",
    "y_train = guj_SR[\"BJP_URBAN_SR\"].values\n",
    "X_train = np.array(X_train)\n",
    "y_train = np.array(y_train)\n",
    "print(X_train.shape)\n",
    "print(type(X_train))\n",
    "\n",
    "# Reshape X\n",
    "# Reshape is rquire dor x only in sklearn by x_train = x_train.reshape(-1,1)\n",
    "X_train = X_train.reshape(-1,1)\n",
    "# Check the shape of the features and targets\n",
    "print(X_train.shape, y_train.shape)\n"
   ]
  },
  {
   "cell_type": "markdown",
   "id": "aab7bf58",
   "metadata": {},
   "source": [
    "<a name=\"toc_40291_2.1\"></a>\n",
    "## Gradient descent summary\n",
    "So far in this course, you have developed a linear model that predicts $f_{w,b}(x^{(i)})$:\n",
    "$$f_{w,b}(x^{(i)}) = wx^{(i)} + b \\tag{1}$$\n",
    "In linear regression, you utilize input training data to fit the parameters $w$,$b$ by minimizing a measure of the error between our predictions $f_{w,b}(x^{(i)})$ and the actual data $y^{(i)}$. The measure is called the $cost$, $J(w,b)$. In training you measure the cost over all of our training samples $x^{(i)},y^{(i)}$\n",
    "$$J(w,b) = \\frac{1}{2m} \\sum\\limits_{i = 0}^{m-1} (f_{w,b}(x^{(i)}) - y^{(i)})^2\\tag{2}$$ "
   ]
  },
  {
   "cell_type": "markdown",
   "id": "973afb5c",
   "metadata": {},
   "source": [
    "\n",
    "In lecture, *gradient descent* was described as:\n",
    "\n",
    "$$\\begin{align*} \\text{repeat}&\\text{ until convergence:} \\; \\lbrace \\newline\n",
    "\\;  w &= w -  \\alpha \\frac{\\partial J(w,b)}{\\partial w} \\tag{3}  \\; \\newline \n",
    " b &= b -  \\alpha \\frac{\\partial J(w,b)}{\\partial b}  \\newline \\rbrace\n",
    "\\end{align*}$$\n",
    "where, parameters $w$, $b$ are updated simultaneously.  \n",
    "The gradient is defined as:\n",
    "$$\n",
    "\\begin{align}\n",
    "\\frac{\\partial J(w,b)}{\\partial w}  &= \\frac{1}{m} \\sum\\limits_{i = 0}^{m-1} (f_{w,b}(x^{(i)}) - y^{(i)})x^{(i)} \\tag{4}\\\\\n",
    "  \\frac{\\partial J(w,b)}{\\partial b}  &= \\frac{1}{m} \\sum\\limits_{i = 0}^{m-1} (f_{w,b}(x^{(i)}) - y^{(i)}) \\tag{5}\\\\\n",
    "\\end{align}\n",
    "$$\n",
    "\n",
    "Here *simultaniously* means that you calculate the partial derivatives for all the parameters before updating any of the parameters."
   ]
  },
  {
   "cell_type": "markdown",
   "id": "a6f8a882",
   "metadata": {},
   "source": [
    "<a name=\"toc_40291_2.2\"></a>\n",
    "## Implement Gradient Descent\n",
    "You will implement gradient descent algorithm for one feature. You will need three functions. \n",
    "- `compute_gradient` implementing equation (4) and (5) above\n",
    "- `compute_cost` implementing equation (2) above (code from previous lab)\n",
    "- `gradient_descent`, implementing equation (3) above utilizing compute_gradient and compute_cost\n",
    "\n",
    "Conventions:\n",
    "- The naming of python variables containing partial derivatives follows this pattern,$\\frac{\\partial J(w,b)}{\\partial b}$  will be `dj_db`.\n",
    "- w.r.t is With Respect To, as in partial derivative of $J(wb)$ With Respect To $b$.\n"
   ]
  },
  {
   "cell_type": "markdown",
   "id": "59b9797c",
   "metadata": {},
   "source": [
    "## COMPUTE COST FUNCTION- STEP 1"
   ]
  },
  {
   "cell_type": "code",
   "execution_count": 3,
   "id": "511ecd7f",
   "metadata": {},
   "outputs": [],
   "source": [
    "#Function to calculate the cost\n",
    "def compute_cost(x, y, w, b):\n",
    "   \n",
    "    m = x.shape[0] \n",
    "    cost = 0\n",
    " \n",
    "  \n",
    "    for i in range(m):\n",
    "        f_wb = w * x[i] + b\n",
    "        error = f_wb - y[i]\n",
    "        cost = cost + error**2\n",
    "    total_cost = 1 / (2 * m) * cost\n",
    "\n",
    "    return total_cost"
   ]
  },
  {
   "cell_type": "markdown",
   "id": "c1aa9dc8",
   "metadata": {},
   "source": [
    "## COMPUTE GRADIENT FUNCTION- STEP 2"
   ]
  },
  {
   "cell_type": "code",
   "execution_count": 4,
   "id": "0ea00481",
   "metadata": {},
   "outputs": [],
   "source": [
    "def compute_gradient(x, y, w, b): \n",
    "    \"\"\"\n",
    "    Computes the gradient for linear regression \n",
    "    Args:\n",
    "      x (ndarray (m,)): Data, m examples \n",
    "      y (ndarray (m,)): target values\n",
    "      w,b (scalar)    : model parameters  \n",
    "    Returns\n",
    "      dj_dw (scalar): The gradient of the cost w.r.t. the parameters w\n",
    "      dj_db (scalar): The gradient of the cost w.r.t. the parameter b     \n",
    "     \"\"\"\n",
    "    \n",
    "    \n",
    "    m, n = x.shape    # Number of training examples\n",
    "    dj_dw = 0         # Starting of the list dj_dw is 0\n",
    "    dj_db = 0         # Starting of the list dj_db is 0\n",
    "    \n",
    "    for i in range(m):  \n",
    "        f_wb = w * x[i] + b \n",
    "        dj_dw_i = (f_wb - y[i]) * x[i] \n",
    "        dj_db_i = f_wb - y[i] \n",
    "        dj_db += dj_db_i\n",
    "        dj_dw += dj_dw_i \n",
    "    dj_dw = dj_dw / m \n",
    "    dj_db = dj_db / m \n",
    "        \n",
    "    return dj_dw, dj_db"
   ]
  },
  {
   "cell_type": "code",
   "execution_count": 5,
   "id": "dd77ce40",
   "metadata": {},
   "outputs": [
    {
     "data": {
      "image/png": "[encoded data removed]",
      "text/plain": [
       "<Figure size 432x288 with 1 Axes>"
      ]
     },
     "metadata": {
      "needs_background": "light"
     },
     "output_type": "display_data"
    }
   ],
   "source": [
    "plt.scatter(X_train,y_train, color=\"blue\")\n",
    "plt.ylim([0.3, 0.58])\n",
    "plt.show()"
   ]
  },
  {
   "cell_type": "markdown",
   "id": "e866ccee",
   "metadata": {},
   "source": [
    "## GRADIENT DESCENT- STEP 3"
   ]
  },
  {
   "cell_type": "markdown",
   "id": "40cc9c84",
   "metadata": {},
   "source": [
    "<a name=\"toc_40291_2.5\"></a>\n",
    "###  Gradient Descent - Implementing equation (3) above utilizing 'compute_gradient' and 'compute_cost'\n",
    "Now that gradients can be computed,  gradient descent, described in equation (3) above can be implemented below in `gradient_descent`. The details of the implementation are described in the comments. Below, you will utilize this function to find optimal values of $w$ and $b$ on the training data."
   ]
  },
  {
   "cell_type": "code",
   "execution_count": 6,
   "id": "ed2dd6b1",
   "metadata": {},
   "outputs": [],
   "source": [
    "def gradient_descent(x, y, w_in, b_in, alpha, num_iters, cost_function, gradient_function): \n",
    "    \"\"\"\n",
    "    Performs gradient descent to fit w,b. Updates w,b by taking \n",
    "    num_iters gradient steps with learning rate alpha\n",
    "    \n",
    "    Args:\n",
    "      x (ndarray (m,))  : Data, m examples \n",
    "      y (ndarray (m,))  : target values\n",
    "      w_in,b_in (scalar): initial values of model parameters  \n",
    "      alpha (float):     Learning rate\n",
    "      num_iters (int):   number of iterations to run gradient descent\n",
    "      cost_function:     function to call to produce cost\n",
    "      gradient_function: function to call to produce gradient\n",
    "      \n",
    "    Returns:\n",
    "      w (scalar): Updated value of parameter after running gradient descent\n",
    "      b (scalar): Updated value of parameter after running gradient descent\n",
    "      J_history (List): History of cost values\n",
    "      p_history (list): History of parameters [w,b] \n",
    "      \"\"\"\n",
    "    \n",
    "   \n",
    "    # An array to store cost J and w's at each iteration primarily for graphing later\n",
    "    J_history = []\n",
    "    p_history = []\n",
    "    b = b_in\n",
    "    w = w_in\n",
    "    \n",
    "    for i in range(num_iters):\n",
    "        # Calculate the gradient and update the parameters using gradient_function\n",
    "        dj_dw, dj_db = gradient_function(x, y, w , b)     \n",
    "\n",
    "        # Update Parameters using equation (3) above\n",
    "        b = b - alpha * dj_db                            \n",
    "        w = w - alpha * dj_dw                            \n",
    "\n",
    "        # Save cost J at each iteration\n",
    "        if i<100000:      # prevent resource exhaustion \n",
    "            J_history.append( cost_function(x, y, w , b))\n",
    "            p_history.append([w,b])\n",
    "        # Print cost every at intervals 10 times or as many iterations if < 10\n",
    "        if i% math.ceil(num_iters/10) == 0 :\n",
    "            print(f\"Iteration {i:4}: Cost {float(J_history[-1]):8.2f}   \")\n",
    " \n",
    "    return w, b, J_history, p_history #return w and J,w history for graphing"
   ]
  },
  {
   "cell_type": "code",
   "execution_count": 7,
   "id": "7cb0e265",
   "metadata": {},
   "outputs": [
    {
     "name": "stdout",
     "output_type": "stream",
     "text": [
      "Iteration    0: Cost     0.09   \n",
      "Iteration  100: Cost     0.07   \n",
      "Iteration  200: Cost     0.05   \n",
      "Iteration  300: Cost     0.04   \n",
      "Iteration  400: Cost     0.03   \n",
      "Iteration  500: Cost     0.03   \n",
      "Iteration  600: Cost     0.02   \n",
      "Iteration  700: Cost     0.02   \n",
      "Iteration  800: Cost     0.01   \n",
      "Iteration  900: Cost     0.01   \n",
      "[0.10701136] [0.24187563]\n"
     ]
    }
   ],
   "source": [
    "# initialize parameters\n",
    "w_init = 0\n",
    "b_init = 0\n",
    "# some gradient descent settings\n",
    "iterations = 1000\n",
    "tmp_alpha = .001\n",
    "# run gradient descent\n",
    "w_final, b_final, J_hist, p_hist = gradient_descent(X_train ,y_train, w_init, b_init, tmp_alpha, \n",
    "                                                    iterations, compute_cost, compute_gradient)\n",
    "print(w_final, b_final)"
   ]
  },
  {
   "cell_type": "markdown",
   "id": "98342753",
   "metadata": {},
   "source": [
    "## CALCULATE w AND b USING sklearn- Both the intercept and coefficients match with the above calculations"
   ]
  },
  {
   "cell_type": "code",
   "execution_count": 8,
   "id": "cf3dcd86",
   "metadata": {},
   "outputs": [
    {
     "name": "stdout",
     "output_type": "stream",
     "text": [
      "w = [0.13905436]\n",
      "b = 0.356\n"
     ]
    }
   ],
   "source": [
    "from sklearn.linear_model import LinearRegression\n",
    "linear_model = LinearRegression()\n",
    "#X must be a 2-D Matrix\n",
    "linear_model.fit(X_train.reshape(-1, 1), y_train)\n",
    "\n",
    "b = linear_model.intercept_\n",
    "w = linear_model.coef_\n",
    "print(f\"w = {w:}\")\n",
    "print(f\"b = {b:0.3f}\")"
   ]
  },
  {
   "cell_type": "markdown",
   "id": "53c6d9ad",
   "metadata": {},
   "source": [
    "## USING sklearn TRAIN, TEST AND CHECK SCORE"
   ]
  },
  {
   "cell_type": "code",
   "execution_count": 9,
   "id": "91795729",
   "metadata": {},
   "outputs": [
    {
     "name": "stdout",
     "output_type": "stream",
     "text": [
      "Predictions: [0.36394006 0.36962408 0.49751458], Actual Values: [0.4        0.37209302 0.47741935]\n"
     ]
    }
   ],
   "source": [
    "from sklearn.model_selection import train_test_split\n",
    "from sklearn.linear_model import LinearRegression\n",
    "\n",
    "# get the data and prepare\n",
    "guj_BJP_urban_SR = pd.read_csv (r\"D:\\Dropbox\\TASK FORCE\\Data Analysis Lok Sabha & Vidhan Sabha\\GUJARAT ELECTIONS\\BJP_StrikeRate_Urban_2017.csv\")\n",
    "guj_SR = guj_BJP_urban_SR\n",
    "guj_SR = guj_SR[guj_SR.URBAN >= 0]\n",
    "guj_SR = guj_SR[guj_SR.URBAN <= 100]\n",
    "guj_SR['URBAN'] = (guj_SR['URBAN'] / 100).round(2)\n",
    "guj_SR = guj_SR.reset_index()\n",
    "guj_SR = guj_SR[[\"BJP_URBAN_SR\", \"URBAN\"]]\n",
    "\n",
    "# Create X and y arrays\n",
    "X_guj_SR = guj_SR[\"URBAN\"].values\n",
    "y_guj_SR = guj_SR[\"BJP_URBAN_SR\"].values\n",
    "X_guj_SR = X_guj_SR.reshape(-1,1)\n",
    "X_train, X_test, y_train, y_test = train_test_split(X_guj_SR, y_guj_SR, test_size=0.3, random_state=42)\n",
    "\n",
    "# Instantiate the model\n",
    "reg = LinearRegression()\n",
    "\n",
    "# Fit the model to the data\n",
    "reg.fit(X_train,y_train)\n",
    "\n",
    "# Make predictions\n",
    "yHat = reg.predict(X_test)\n",
    "yHat_all = reg.predict(X_guj_SR)\n",
    "print(\"Predictions: {}, Actual Values: {}\".format(yHat[:3], y_test[:3]))"
   ]
  },
  {
   "cell_type": "code",
   "execution_count": 10,
   "id": "2ffb5cdf",
   "metadata": {},
   "outputs": [
    {
     "data": {
      "image/png": "[encoded data removed]",
      "text/plain": [
       "<Figure size 432x288 with 1 Axes>"
      ]
     },
     "metadata": {
      "needs_background": "light"
     },
     "output_type": "display_data"
    }
   ],
   "source": [
    "# Import matplotlib.pyplot\n",
    "import matplotlib.pyplot as plt\n",
    "\n",
    "# Create scatter plot\n",
    "plt.scatter(X_guj_SR, y_guj_SR, color=\"blue\")\n",
    "\n",
    "# Create line plot\n",
    "plt.plot(X_guj_SR, yHat_all, color=\"red\")\n",
    "plt.xlabel(\"URBAN VOTES % in AC\")\n",
    "plt.ylabel(\"BJP Strke Rate\")\n",
    "plt.ylim([0.3, 0.58])\n",
    "# Display the plot\n",
    "plt.show()"
   ]
  },
  {
   "cell_type": "code",
   "execution_count": 11,
   "id": "72d51052",
   "metadata": {},
   "outputs": [
    {
     "name": "stdout",
     "output_type": "stream",
     "text": [
      "R^2: 0.618042792537077\n",
      "RMSE: 0.03172601339828331\n"
     ]
    }
   ],
   "source": [
    "# Import mean_squared_error\n",
    "from sklearn.metrics import mean_squared_error\n",
    "\n",
    "# Compute R-squared\n",
    "r_squared = reg.score(X_test, y_test)\n",
    "\n",
    "# Compute RMSE\n",
    "rmse = mean_squared_error(y_test, yHat, squared = False)\n",
    "\n",
    "# Print the metrics\n",
    "print(\"R^2: {}\".format(r_squared))\n",
    "print(\"RMSE: {}\".format(rmse))"
   ]
  },
  {
   "cell_type": "markdown",
   "id": "09165a51",
   "metadata": {},
   "source": [
    "## PERFORM k-fold CROSS-VALIDATION ON guj_SR DATA USING sklearn"
   ]
  },
  {
   "cell_type": "code",
   "execution_count": 12,
   "id": "13c5bd59",
   "metadata": {},
   "outputs": [
    {
     "name": "stdout",
     "output_type": "stream",
     "text": [
      "[0.57417779 0.59373461 0.43694698 0.40928123 0.57900019]\n",
      "0.5186281600001251 0.07874018974305423\n",
      "[0.41204781 0.59226116]\n"
     ]
    }
   ],
   "source": [
    "from sklearn.model_selection import cross_val_score, KFold\n",
    "kf = KFold(n_splits = 5, shuffle = True, random_state = 42)\n",
    "reg = LinearRegression()\n",
    "cv_results = cross_val_score(reg, X_guj_SR, y_guj_SR, cv = kf)\n",
    "print(cv_results)\n",
    "print(np.mean(cv_results), np.std(cv_results))\n",
    "print(np.quantile(cv_results, [0.025, 0.975]))"
   ]
  },
  {
   "cell_type": "markdown",
   "id": "38a0e53d",
   "metadata": {},
   "source": [
    "\n",
    "### Take a moment and note some characteristics of the gradient descent process printed above.  \n",
    "\n",
    "- The cost starts large and rapidly declines as described in the slide from the lecture.\n",
    "- The partial derivatives, `dj_dw`, and `dj_db` also get smaller, rapidly at first and then more slowly. As shown in the diagram from the lecture, as the process nears the 'bottom of the bowl' progress is slower due to the smaller value of the derivative at that point.\n",
    "- progress slows though the learning rate, alpha, remains fixed"
   ]
  },
  {
   "cell_type": "markdown",
   "id": "ae1d4538",
   "metadata": {},
   "source": [
    "### Cost versus iterations of gradient descent \n",
    "A plot of cost versus iterations is a useful measure of progress in gradient descent. Cost should always decrease in successful runs. The change in cost is so rapid initially, it is useful to plot the initial decent on a different scale than the final descent. In the plots below, note the scale of cost on the axes and the iteration step."
   ]
  },
  {
   "cell_type": "code",
   "execution_count": 13,
   "id": "08c3c808",
   "metadata": {},
   "outputs": [
    {
     "data": {
      "image/png": "[encoded data removed]",
      "text/plain": [
       "<Figure size 864x288 with 2 Axes>"
      ]
     },
     "metadata": {
      "needs_background": "light"
     },
     "output_type": "display_data"
    }
   ],
   "source": [
    "# plot cost versus iteration  \n",
    "fig, (ax1, ax2) = plt.subplots(1, 2, constrained_layout=True, figsize=(12,4))\n",
    "ax1.plot(J_hist[:10000])\n",
    "ax2.plot(1000 + np.arange(len(J_hist[1000:])), J_hist[1000:])\n",
    "ax1.set_title(\"Cost vs. iteration(start)\");  ax2.set_title(\"Cost vs. iteration (end)\")\n",
    "ax1.set_ylabel('Cost')            ;  ax2.set_ylabel('Cost') \n",
    "ax1.set_xlabel('iteration step')  ;  ax2.set_xlabel('iteration step') \n",
    "plt.show()"
   ]
  },
  {
   "cell_type": "markdown",
   "id": "ed9bd4a3",
   "metadata": {},
   "source": [
    "### Predictions\n",
    "Now that you have discovered the optimal values for the parameters $w$ and $b$, you can now use the model to predict housing values based on our learned parameters. As expected, the predicted values are nearly the same as the training values for the same housing. Further, the value not in the prediction is in line with the expected value."
   ]
  },
  {
   "cell_type": "code",
   "execution_count": 14,
   "id": "a2695528",
   "metadata": {},
   "outputs": [
    {
     "data": {
      "text/plain": [
       "array([[-0.00085727],\n",
       "       [-0.00296846]])"
      ]
     },
     "execution_count": 14,
     "metadata": {},
     "output_type": "execute_result"
    }
   ],
   "source": [
    "import numpy as np\n",
    "0.01 * (np.random.rand(2).reshape(-1,1) - 0.5)"
   ]
  },
  {
   "cell_type": "markdown",
   "id": "8f0fcd10",
   "metadata": {},
   "source": [
    "# GUJARAT BJP STRIKE RATE WITH POLYNOMIAL AND REGULARISED LINEAR REGRESSION"
   ]
  },
  {
   "cell_type": "markdown",
   "id": "c508fc5e",
   "metadata": {},
   "source": [
    "### Step1 import the numpy, pandas, math and other packages\n",
    "\n",
    "### Step 2 import the csv or excel sheet\n",
    "\n",
    "### Step 3 in case of logistic regression define sigmoid function first\n",
    "\n",
    "### Step 4 feature mapping by polynomial function\n",
    "\n",
    "### Step 5 normalisation of features in case of multiple features of different scales by using z score method\n",
    "\n",
    "### Step 6 compute_cost (logistic) or compute_cost  (linear) and add  regularisation cost function\n",
    "\n",
    "### Step 7 compute_gradient (linear) or compute_gradient (logistic) with regularisation cost\n",
    "\n",
    "### Step 8 compute_gradient_descent\n",
    "\n",
    "### Step 9 Calculate w and b by implementing the gradient_descent function\n",
    "\n",
    "### Step 10 Predict accuracy for logistic regression"
   ]
  },
  {
   "cell_type": "code",
   "execution_count": 15,
   "id": "078f935c",
   "metadata": {},
   "outputs": [],
   "source": [
    "# Step1 import the numpy, pandas, math and other packages\n",
    "\n",
    "import numpy as np\n",
    "import pandas as pd\n",
    "import matplotlib.pyplot as plt\n",
    "import math\n",
    "import statistics"
   ]
  },
  {
   "cell_type": "code",
   "execution_count": 16,
   "id": "798e4eca",
   "metadata": {},
   "outputs": [
    {
     "name": "stdout",
     "output_type": "stream",
     "text": [
      "guj_SR type:  <class 'pandas.core.frame.DataFrame'>\n",
      "guj_SR type:  <class 'numpy.ndarray'>  X_train shape:  (182, 2)\n",
      "(182, 2) (182,)\n",
      "guj_SR type:  <class 'numpy.ndarray'>\n"
     ]
    }
   ],
   "source": [
    "# Step 2 Creat DataFrame\n",
    "\n",
    "guj_SR = pd.read_csv (r\"D:\\Dropbox\\TASK FORCE\\Data Analysis Lok Sabha & Vidhan Sabha\\GUJARAT ELECTIONS\\BJP_StrikeRate_Urban_2017.csv\")\n",
    "\n",
    "# Select the range of Urban Votes\n",
    "guj_SR = guj_SR[guj_SR.URBAN >= 0]\n",
    "guj_SR = guj_SR[guj_SR.URBAN <= 100]\n",
    "\n",
    "# Scale the percentage to proportion of urban votes\n",
    "guj_SR['URBAN'] = (guj_SR['URBAN'] / 100).round(2)\n",
    "\n",
    "# Reset the index and select only the required columns\n",
    "guj_SR = guj_SR.reset_index()\n",
    "guj_SR = guj_SR[[\"BJP_URBAN_SR\", \"URBAN\"]]\n",
    "\n",
    "# ADD NEW FEATURE X^2-IMPORTANT\n",
    "guj_SR['URBAN^2'] = guj_SR['URBAN']**2\n",
    "\n",
    "\n",
    "\n",
    "# Create X_train from the \"URBAN\" values of dataframe guj_SR\n",
    "X_train = guj_SR.drop(\"BJP_URBAN_SR\", axis = 1).values\n",
    "# Create y_train from the \"BJP_URBAN_SR\" values of dataframe guj_SR\n",
    "y_train = guj_SR[\"BJP_URBAN_SR\"].values\n",
    "print(\"guj_SR type:  \" + str(type(guj_SR)))\n",
    "\n",
    "\n",
    "guj_SR = np.array(guj_SR)\n",
    "\n",
    "print(\"guj_SR type:  \" + str(type(guj_SR)) + \"  X_train shape:  \" + str(X_train.shape))\n",
    "\n",
    "\n",
    "# Reshape X\n",
    "# Check shape of X it should be two dimensional otherwise, reshape is rquired for x \n",
    "# only in sklearn by x_train = x_train.reshape(-1,1)\n",
    "\n",
    "# Check the shape of the features and targets\n",
    "print(X_train.shape, y_train.shape)\n",
    "print(\"guj_SR type:  \" + str(type(guj_SR)))"
   ]
  },
  {
   "cell_type": "code",
   "execution_count": 17,
   "id": "983259f5",
   "metadata": {},
   "outputs": [],
   "source": [
    "# Step 4 feature mapping by polynomial function\n",
    "# Step 6 compute_cost (logistic) or compute_cost (linear) and add regularisation cost function\n",
    "\n",
    "def compute_cost(X, y, w, b, lambda_ = 10) :\n",
    "    \"\"\"\n",
    "    to calculate the cost with regularisation and polynomial function\n",
    "    \n",
    "    f_wb = y_hat = w_ij*X_ij + b # Here i is from range m and j is from range n (number of features)\n",
    "    J_wb is total cost i.e summation of all f_wb\n",
    "    \"\"\"\n",
    "    \n",
    "    m, n = X.shape\n",
    "   \n",
    "    cost = 0\n",
    "    \n",
    "    for i in range(m) :\n",
    "        f_wb = 0 # initial value 0 \n",
    "        for j in range(n) :\n",
    "            f_wb_ij = np.dot(X[i][j], w[j])\n",
    "            f_wb += f_wb_ij\n",
    "        \n",
    "        f_wb += b\n",
    "        error = f_wb - y[i]\n",
    "            \n",
    "        cost += error**2\n",
    "    total_cost = 1 / (2 * m) * cost\n",
    "    return total_cost"
   ]
  },
  {
   "cell_type": "code",
   "execution_count": 18,
   "id": "a67d6e46",
   "metadata": {},
   "outputs": [],
   "source": [
    "def compute_cost_reg(X, y, w, b, lambda_ = 10):\n",
    "    \"\"\"\n",
    "    Add regularisation cost lambda_/2m *(w[j]^2)\n",
    "    \"\"\"\n",
    "    \n",
    "    m, n = X.shape\n",
    "    # Calls the compute_cost function that you implemented above\n",
    "    cost_without_reg = compute_cost(X, y, w, b) \n",
    "    \n",
    "    reg_cost = 0\n",
    "    \n",
    "    for j in range(n) :\n",
    "        reg_cost_j = w[j]**2\n",
    "        reg_cost += reg_cost_j\n",
    "        \n",
    "    total_cost = cost_without_reg + (lambda_/(2 * m)) * reg_cost\n",
    "    \n",
    "    return total_cost"
   ]
  },
  {
   "cell_type": "code",
   "execution_count": 19,
   "id": "4831fb7a",
   "metadata": {},
   "outputs": [],
   "source": [
    "# Step 7 compute_gradient (linear) or compute_gradient (logistic) with regularisation cost\n",
    "\n",
    "def compute_gradient(X, y, w, b, lambda_ = 10) :\n",
    "    \"\"\"\n",
    "     Computes the gradient\n",
    "    Args:\n",
    "      X : (ndarray Shape (m,n)) variable such as house size \n",
    "      y : (array_like Shape (m,1)) actual value \n",
    "      w : (array_like Shape (n,1)) values of parameters of the model      \n",
    "      b : (scalar)                 value of parameter of the model \n",
    "      lambda_: unused placeholder.\n",
    "    Returns\n",
    "      dj_dw: (array_like Shape (n,1)) The gradient of the cost w.r.t. the parameters w. \n",
    "      dj_db: (scalar)                The gradient of the cost w.r.t. the parameter b.  \n",
    "    \n",
    "    \"\"\"\n",
    "    \n",
    "    m, n = X.shape\n",
    "    dj_dw = np.zeros(w.shape)\n",
    "    dj_db = 0.0\n",
    "    \n",
    "    \n",
    "    for i in range(m) :\n",
    "        f_wb = 0\n",
    "        \n",
    "        for j in range(n) :\n",
    "            f_wb_ij = np.dot(X[i, j], w[j])\n",
    "            f_wb += f_wb_ij\n",
    "            \n",
    "        f_wb += b\n",
    "        \n",
    "        error = f_wb - y[i]\n",
    "        dj_db += error\n",
    "        \n",
    "        \n",
    "        for j in range(n) :\n",
    "            dj_dw[j] += error * X[i][j]\n",
    "        \n",
    "        \n",
    "        dj_dw = dj_dw / m\n",
    "        dj_db = dj_db / m\n",
    "        \n",
    "        \n",
    "    return dj_db, dj_dw"
   ]
  },
  {
   "cell_type": "code",
   "execution_count": 20,
   "id": "56785f54",
   "metadata": {},
   "outputs": [],
   "source": [
    "# Add regularisation\n",
    "\n",
    "def compute_gradient_reg(X, y, w, b, lambda_ = 10): \n",
    "    \"\"\"\n",
    "    Computes the gradient for linear regression \n",
    " \n",
    "    Args:\n",
    "      X : (ndarray Shape (m,n))   variable such as house size \n",
    "      y : (ndarray Shape (m,))    actual value \n",
    "      w : (ndarray Shape (n,))    values of parameters of the model      \n",
    "      b : (scalar)                value of parameter of the model  \n",
    "      lambda_ : (scalar,float)    regularization constant\n",
    "    Returns\n",
    "      dj_db: (scalar)             The gradient of the cost w.r.t. the parameter b. \n",
    "      dj_dw: (ndarray Shape (n,)) The gradient of the cost w.r.t. the parameters w. \n",
    "\n",
    "    \"\"\"\n",
    "    m, n = X.shape\n",
    "    \n",
    "    dj_db, dj_dw = compute_gradient(X, y, w, b)\n",
    "\n",
    "    ### START CODE HERE ###     \n",
    "    for j in range(n) :\n",
    "        dj_dw_j_reg = (lambda_/m) * w[j]\n",
    "        dj_dw[j] = dj_dw[j] + dj_dw_j_reg\n",
    "        \n",
    "    ### END CODE HERE ###         \n",
    "        \n",
    "    return dj_db, dj_dw"
   ]
  },
  {
   "cell_type": "code",
   "execution_count": 21,
   "id": "6761bfdc",
   "metadata": {},
   "outputs": [],
   "source": [
    "def gradient_descent(X, y, w_in, b_in, cost_function, gradient_function, alpha, num_iters, lambda_ = 10): \n",
    "    \"\"\"\n",
    "    Performs batch gradient descent to learn theta. Updates theta by taking \n",
    "    num_iters gradient steps with learning rate alpha\n",
    "    \n",
    "    Args:\n",
    "      X :    (array_like Shape (m, n)\n",
    "      y :    (array_like Shape (m,))\n",
    "      w_in : (array_like Shape (n,))  Initial values of parameters of the model\n",
    "      b_in : (scalar)                 Initial value of parameter of the model\n",
    "      cost_function:                  function to compute cost\n",
    "      alpha : (float)                 Learning rate\n",
    "      num_iters : (int)               number of iterations to run gradient descent\n",
    "      lambda_ (scalar, float)         regularization constant\n",
    "      \n",
    "    Returns:\n",
    "      w : (array_like Shape (n,)) Updated values of parameters of the model after\n",
    "          running gradient descent\n",
    "      b : (scalar)                Updated value of parameter of the model after\n",
    "          running gradient descent\n",
    "    \"\"\"\n",
    "    \n",
    "    # number of training examples\n",
    "    m = len(X)\n",
    "    \n",
    "    # An array to store cost J and w's at each iteration primarily for graphing later\n",
    "    J_history = []\n",
    "    w_history = []\n",
    "    \n",
    "    for i in range(num_iters):\n",
    "\n",
    "        # Calculate the gradient and update the parameters\n",
    "        dj_db, dj_dw = gradient_function(X, y, w_in, b_in, lambda_)   \n",
    "\n",
    "        # Update Parameters using w, b, alpha and gradient\n",
    "        w_in = w_in - alpha * dj_dw               \n",
    "        b_in = b_in - alpha * dj_db              \n",
    "       \n",
    "        # Save cost J at each iteration\n",
    "        if i<100000:      # prevent resource exhaustion \n",
    "            cost =  cost_function(X, y, w_in, b_in, lambda_)\n",
    "            J_history.append(cost)\n",
    "\n",
    "        # Print cost every at intervals 10 times or as many iterations if < 10\n",
    "        if i% math.ceil(num_iters/10) == 0 or i == (num_iters-1):\n",
    "            w_history.append(w_in)\n",
    "            print(f\"Iteration {i:4}: Cost {float(J_history[-1]):8.2f}   \")\n",
    "        \n",
    "    return w_in, b_in, J_history, w_history #return w and J,w history for graphing"
   ]
  },
  {
   "cell_type": "code",
   "execution_count": 22,
   "id": "4869c8d5",
   "metadata": {},
   "outputs": [
    {
     "name": "stdout",
     "output_type": "stream",
     "text": [
      "Iteration    0: Cost     0.19   \n",
      "Iteration 1000: Cost     0.19   \n",
      "Iteration 2000: Cost     0.19   \n",
      "Iteration 3000: Cost     0.18   \n",
      "Iteration 4000: Cost     0.18   \n",
      "Iteration 5000: Cost     0.18   \n",
      "Iteration 6000: Cost     0.17   \n",
      "Iteration 7000: Cost     0.17   \n",
      "Iteration 8000: Cost     0.17   \n",
      "Iteration 9000: Cost     0.16   \n",
      "Iteration 9999: Cost     0.16   \n",
      "[-0.10748377  0.17960326] 0.9702316496451251\n"
     ]
    }
   ],
   "source": [
    "# Initialize fitting parameters\n",
    "np.random.seed(1)\n",
    "initial_w = np.random.rand(X_train.shape[1])-0.5\n",
    "initial_b = 1.\n",
    "\n",
    "# Set regularization parameter lambda_ to 1 (you can try varying this)\n",
    "lambda_ = 1;                                          \n",
    "# Some gradient descent settings\n",
    "iterations = 10000\n",
    "alpha = 0.001\n",
    "\n",
    "w,b, J_history,_ = gradient_descent(X_train, y_train, initial_w, initial_b, \n",
    "                                    compute_cost_reg, compute_gradient_reg, \n",
    "                                    alpha, iterations, lambda_)\n",
    "\n",
    "print(w,b)"
   ]
  },
  {
   "cell_type": "code",
   "execution_count": 23,
   "id": "a6af7739",
   "metadata": {},
   "outputs": [],
   "source": [
    "# lambda = 1\n",
    "y_hat = np.dot(X_train, w) + b\n",
    "y_hat = y_hat**1/2"
   ]
  },
  {
   "cell_type": "code",
   "execution_count": 24,
   "id": "4f66eb42",
   "metadata": {},
   "outputs": [
    {
     "data": {
      "text/plain": [
       "[<matplotlib.lines.Line2D at 0x26ab3445bb0>,\n",
       " <matplotlib.lines.Line2D at 0x26ab3445c10>]"
      ]
     },
     "execution_count": 24,
     "metadata": {},
     "output_type": "execute_result"
    },
    {
     "data": {
      "image/png": "[encoded data removed]",
      "text/plain": [
       "<Figure size 432x288 with 1 Axes>"
      ]
     },
     "metadata": {
      "needs_background": "light"
     },
     "output_type": "display_data"
    }
   ],
   "source": [
    "plt.plot(X_train, y_hat)"
   ]
  },
  {
   "cell_type": "code",
   "execution_count": null,
   "id": "bc563b73",
   "metadata": {},
   "outputs": [],
   "source": []
  }
 ],
 "metadata": {
  "kernelspec": {
   "display_name": "Python 3 (ipykernel)",
   "language": "python",
   "name": "python3"
  },
  "language_info": {
   "codemirror_mode": {
    "name": "ipython",
    "version": 3
   },
   "file_extension": ".py",
   "mimetype": "text/x-python",
   "name": "python",
   "nbconvert_exporter": "python",
   "pygments_lexer": "ipython3",
   "version": "3.9.12"
  }
 },
 "nbformat": 4,
 "nbformat_minor": 5
}
